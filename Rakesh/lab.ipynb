{
 "cells": [
  {
   "cell_type": "code",
   "execution_count": 5,
   "metadata": {},
   "outputs": [
    {
     "data": {
      "text/plain": [
       "[-8, -7, 3, 8]"
      ]
     },
     "execution_count": 5,
     "metadata": {},
     "output_type": "execute_result"
    }
   ],
   "source": [
    "# Union of 2 sorted arrays\n",
    "def union(a, b):\n",
    "    i, j = 0, 0\n",
    "    u = list()\n",
    "    while (i < len(a)) and (j < len(b)):\n",
    "        if (a[i] <= b[j]) and len(u) == 0:\n",
    "            u.append(a[i])\n",
    "            i += 1\n",
    "\n",
    "        elif (a[i] <= b[j]) and len(u) != 0:\n",
    "            if u[-1] != a[i]:\n",
    "                u.append(a[i])\n",
    "            i += 1\n",
    "\n",
    "\n",
    "        elif (b[j] <= a[i]) and len(u) == 0:\n",
    "            \n",
    "            u.append(b[j])\n",
    "            j += 1\n",
    "\n",
    "        elif (b[j] <= a[i]) and len(u) != 0:\n",
    "            if u[-1] != b[j]:\n",
    "                u.append(b[j])\n",
    "            j += 1\n",
    "\n",
    "    # For remaining elements in a\n",
    "    while i < len(a):\n",
    "        if len(u) == 0:\n",
    "            u.append(a[i])\n",
    "        else:\n",
    "            if u[-1] != a[i]:\n",
    "                u.append(a[i])\n",
    "        i += 1\n",
    "\n",
    "    # For remaining elements in b\n",
    "    while j < len(b):\n",
    "        if len(u) == 0:\n",
    "            u.append(b[j])\n",
    "        else:\n",
    "            if u[-1] != b[j]:\n",
    "                u.append(b[j])\n",
    "        j += 1\n",
    "\n",
    "    return u \n",
    "\n",
    "\n",
    "# a = [1,1,2,3,4,5]\n",
    "# b = [2,3,4,5,6]\n",
    "a = [-7, 8]\n",
    "b = [-8, 3, 8]\n",
    "union(a, b)\n",
    "\n"
   ]
  },
  {
   "cell_type": "code",
   "execution_count": 6,
   "metadata": {},
   "outputs": [
    {
     "data": {
      "text/plain": [
       "[-8, -7, 8, 3, 8]"
      ]
     },
     "execution_count": 6,
     "metadata": {},
     "output_type": "execute_result"
    }
   ],
   "source": [
    "class Solution:\n",
    "    \n",
    "    #Function to return a list containing the union of the two arrays.\n",
    "    def findUnion(self,a,b):\n",
    "        # code here \n",
    "        i, j, union = 0, 0, list()\n",
    "        n1, n2 = len(a), len(b)\n",
    "        \n",
    "        while (i < n1) and (j < n2):\n",
    "            if (a[i] <= b[j]) and len(union) == 0:\n",
    "                union.append(a[i])\n",
    "                i += 1\n",
    "                \n",
    "            elif (a[i] <= b[j]) and len(union) != 0:\n",
    "                if union[-1] != a[i]:\n",
    "                    union.append(a[i])\n",
    "                i += 1\n",
    "                \n",
    "            elif (a[i] >= b[j]) and len(union) == 0:\n",
    "                union.append(b[j])\n",
    "                j += 1\n",
    "                \n",
    "            elif (a[i] >= b[j]) and len(union) != 0:\n",
    "                if union[-1] != b[j]:\n",
    "                    union.append(b[j])\n",
    "                j += 1\n",
    "                \n",
    "                \n",
    "            # for array a remaining element\n",
    "            while i < n1:\n",
    "                if len(union) == 0:\n",
    "                    union.append(a[i])\n",
    "                    \n",
    "                elif union[-1] != a[i]:\n",
    "                    union.append(a[i])\n",
    "                i += 1\n",
    "                \n",
    "            # for array b remaining element\n",
    "            while j < n2:\n",
    "                if len(union) == 0:\n",
    "                    union.append(b[j])\n",
    "                    \n",
    "                elif union[-1] != b[j]:\n",
    "                    union.append(b[j])\n",
    "                j += 1\n",
    "            \n",
    "            return union\n",
    "        \n",
    "\n",
    "s = Solution()\n",
    "s.findUnion(a, b)"
   ]
  },
  {
   "cell_type": "code",
   "execution_count": null,
   "metadata": {},
   "outputs": [],
   "source": []
  }
 ],
 "metadata": {
  "kernelspec": {
   "display_name": "Python 3",
   "language": "python",
   "name": "python3"
  },
  "language_info": {
   "codemirror_mode": {
    "name": "ipython",
    "version": 3
   },
   "file_extension": ".py",
   "mimetype": "text/x-python",
   "name": "python",
   "nbconvert_exporter": "python",
   "pygments_lexer": "ipython3",
   "version": "3.11.4"
  }
 },
 "nbformat": 4,
 "nbformat_minor": 2
}
